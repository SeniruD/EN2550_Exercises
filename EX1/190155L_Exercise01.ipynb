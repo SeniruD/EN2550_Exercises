{
 "cells": [
  {
   "cell_type": "markdown",
   "metadata": {},
   "source": [
    "Name - D.M.S.S.Dissanayake\n",
    "Index No - 190155L"
   ]
  },
  {
   "cell_type": "code",
   "execution_count": 55,
   "metadata": {},
   "outputs": [
    {
     "name": "stdout",
     "output_type": "stream",
     "text": [
      "1 :  1\n",
      "2 :  4\n",
      "3 :  9\n",
      "4 :  16\n",
      "5 :  25\n"
     ]
    }
   ],
   "source": [
    "# Question 1\n",
    "for i in range(1,6):\n",
    "  print(i, ': ', i**2)"
   ]
  },
  {
   "cell_type": "code",
   "execution_count": 56,
   "metadata": {},
   "outputs": [
    {
     "name": "stdout",
     "output_type": "stream",
     "text": [
      "1 :  1\n",
      "4 :  16\n"
     ]
    }
   ],
   "source": [
    "# Question 2\n",
    "import sympy\n",
    "for i in range(1,6):\n",
    "  if not sympy.isprime(i):\n",
    "    print(i, ': ', i**2)"
   ]
  },
  {
   "cell_type": "code",
   "execution_count": 57,
   "metadata": {},
   "outputs": [
    {
     "name": "stdout",
     "output_type": "stream",
     "text": [
      "0 :  1\n",
      "1 :  4\n",
      "2 :  9\n",
      "3 :  16\n",
      "4 :  25\n"
     ]
    }
   ],
   "source": [
    "# Question 3\n",
    "squares = [i**2 for i in range(1,6)]\n",
    "for i1,i2 in enumerate(squares):\n",
    "  print(i1, ': ', i2)"
   ]
  },
  {
   "cell_type": "code",
   "execution_count": 58,
   "metadata": {},
   "outputs": [
    {
     "name": "stdout",
     "output_type": "stream",
     "text": [
      "0 :  1\n",
      "1 :  16\n"
     ]
    }
   ],
   "source": [
    "# Question 4\n",
    "squares = [i**2 for i in range(1,6) if not sympy.isprime(i)]\n",
    "for i1,i2 in enumerate(squares):\n",
    "  print(i1, ': ', i2)"
   ]
  },
  {
   "cell_type": "code",
   "execution_count": 59,
   "metadata": {},
   "outputs": [
    {
     "name": "stdout",
     "output_type": "stream",
     "text": [
      "[[ 9 12 15  9]\n",
      " [25 32 39 19]\n",
      " [41 52 63 29]]\n"
     ]
    }
   ],
   "source": [
    "# Question 5 (a)\n",
    "import numpy as np\n",
    "A = np.array([[1, 2] ,[3, 4], [5, 6]])\n",
    "B = np.array([[7, 8, 9, 1],[1, 2, 3, 4]])\n",
    "print(A@B)"
   ]
  },
  {
   "cell_type": "code",
   "execution_count": 60,
   "metadata": {},
   "outputs": [
    {
     "name": "stdout",
     "output_type": "stream",
     "text": [
      "[[ 3  4]\n",
      " [15 16]\n",
      " [15  6]]\n"
     ]
    }
   ],
   "source": [
    "# Question 5 (b)\n",
    "A = np.array([[1, 2] ,[3, 4], [5, 6]])\n",
    "B = np.array([[3, 2] ,[5, 4], [3, 1]])\n",
    "print(A*B)"
   ]
  },
  {
   "cell_type": "code",
   "execution_count": 61,
   "metadata": {},
   "outputs": [
    {
     "name": "stdout",
     "output_type": "stream",
     "text": [
      "[[ 1  7  0  3  7  5  0]\n",
      " [ 4  9  8  8  8 10  9]\n",
      " [ 0  7  8  0  1  9  4]\n",
      " [ 0  2  0  9  5  9  2]\n",
      " [ 6  5  3  7  3  7  0]]\n",
      "[[4 9 8]\n",
      " [0 7 8]]\n"
     ]
    }
   ],
   "source": [
    "# Question 6\n",
    "w = np.random.randint(11, size=(5, 7))\n",
    "print(w)\n",
    "extw = w[1:3,0:3]\n",
    "print(extw)\n"
   ]
  },
  {
   "cell_type": "code",
   "execution_count": 62,
   "metadata": {},
   "outputs": [
    {
     "name": "stdout",
     "output_type": "stream",
     "text": [
      "Example 1\n",
      "A = [1 2 3]\n",
      "B = 2\n",
      "C = [3 4 5]\n",
      "\n",
      "Example 2\n",
      "A = [[1 2 3]\n",
      " [4 5 6]]\n",
      "B = [1 2 3]\n",
      "C = [[2 4 6]\n",
      " [5 7 9]]\n",
      "\n",
      "Example 3\n",
      "A = [1 2 3]\n",
      "B = [4 5]\n",
      "[[ 4  5]\n",
      " [ 8 10]\n",
      " [12 15]]\n",
      "C = [[2 4 6]\n",
      " [5 7 9]]\n"
     ]
    }
   ],
   "source": [
    "# Question 7\n",
    "\n",
    "print(\"Example 1\") # Example 1\n",
    "# Add the scalar B to each element of the matrix A\n",
    "A = np.array([1, 2, 3])\n",
    "print(\"A =\",A)\n",
    "B = 2\n",
    "print(\"B =\",B)\n",
    "C = A + B\n",
    "print(\"C =\",C,)\n",
    "\n",
    "print(\"\\nExample 2\") # Example 2\n",
    "# Add the matrix B to each row of the matrix A\n",
    "A = np.array([[1, 2, 3], [4, 5, 6]])\n",
    "print(\"A =\",A)\n",
    "B = np.array([1, 2, 3])\n",
    "print(\"B =\",B)\n",
    "C = A + B\n",
    "print(\"C =\",C)\n",
    "\n",
    "print(\"\\nExample 3\") # Example 3\n",
    "#Reshape A and multiply with each column of matrix B\n",
    "A = np.array([1,2,3])\n",
    "print(\"A =\",A) \n",
    "B = np.array([4,5])\n",
    "print(\"B =\",B)\n",
    "print(np.reshape(A, (3, 1)) * B)\n",
    "print(\"C =\",C)\n"
   ]
  },
  {
   "cell_type": "code",
   "execution_count": 63,
   "metadata": {},
   "outputs": [
    {
     "name": "stdout",
     "output_type": "stream",
     "text": [
      "x =  [[0.]\n",
      " [1.]\n",
      " [2.]\n",
      " [3.]\n",
      " [4.]\n",
      " [5.]\n",
      " [6.]\n",
      " [7.]\n",
      " [8.]\n",
      " [9.]]\n",
      "X =  [[1. 0.]\n",
      " [1. 1.]\n",
      " [1. 2.]\n",
      " [1. 3.]\n",
      " [1. 4.]\n",
      " [1. 5.]\n",
      " [1. 6.]\n",
      " [1. 7.]\n",
      " [1. 8.]\n",
      " [1. 9.]]\n",
      "w =  [[0.34296637]\n",
      " [1.57051588]]\n"
     ]
    },
    {
     "data": {
      "image/png": "[encoded data removed]",
      "text/plain": [
       "<Figure size 432x288 with 1 Axes>"
      ]
     },
     "metadata": {
      "needs_background": "light"
     },
     "output_type": "display_data"
    }
   ],
   "source": [
    "# Question 8\n",
    "\n",
    "from numpy import linalg\n",
    "import matplotlib.pyplot as plt\n",
    "\n",
    "m,c = 2 ,-4\n",
    "N=10\n",
    "x=np.linspace(0,N-1,N).reshape (N, 1 )\n",
    "sigma = 10\n",
    "y = m*x + c + np.random.normal(0,sigma, (N, 1))\n",
    "plt.scatter(x,y)\n",
    "\n",
    "print(\"x = \",x)\n",
    "X=np.append(np.ones((N,1)),x,axis=1)\n",
    "print(\"X = \",X)\n",
    "w=linalg.inv(X.T@ X)@X.T @ y\n",
    "print(\"w = \",w)\n"
   ]
  },
  {
   "cell_type": "code",
   "execution_count": 64,
   "metadata": {},
   "outputs": [],
   "source": [
    "# Question 10\n",
    "import cv2\n",
    "\n",
    "img = cv2.imread(r'gal_gaussian.png')\n",
    "blur = cv2.GaussianBlur(img, (5,5),0)\n",
    "\n",
    "cv2.namedWindow('Image', cv2.WINDOW_AUTOSIZE)\n",
    "cv2.imshow('Image', img)\n",
    "cv2.waitKey(0)\n",
    "cv2.imshow('Image', blur)\n",
    "cv2.waitKey(0)\n",
    "cv2.destroyAllWindows()"
   ]
  },
  {
   "cell_type": "code",
   "execution_count": 65,
   "metadata": {},
   "outputs": [],
   "source": [
    "# Question 11\n",
    "img = cv2.imread(r'gal_sandp.png')\n",
    "median = cv2.medianBlur(img, 5)\n",
    "\n",
    "cv2.namedWindow('Image', cv2.WINDOW_AUTOSIZE)\n",
    "cv2.imshow('Image', img)\n",
    "cv2.waitKey(0)\n",
    "cv2.imshow('Image', median)\n",
    "cv2.waitKey(0)\n",
    "cv2.destroyAllWindows()"
   ]
  },
  {
   "cell_type": "code",
   "execution_count": 66,
   "metadata": {},
   "outputs": [
    {
     "data": {
      "image/png": "[encoded data removed]",
      "text/plain": [
       "<Figure size 432x288 with 1 Axes>"
      ]
     },
     "metadata": {
      "needs_background": "light"
     },
     "output_type": "display_data"
    }
   ],
   "source": [
    "# Question 12\n",
    "\n",
    "img = np.zeros((40,60), dtype=np.uint8)\n",
    "img[0:21, 30:61] = 125\n",
    "\n",
    "fig, ax = plt.subplots()\n",
    "ax.imshow(img, cmap ='gray', vmin = 0, vmax = 255)\n",
    "plt.show()\n",
    "#cv2.namedWindow('Image', cv2.WINDOW_AUTOSIZE)\n",
    "#cv2.imshow('Image', img)\n",
    "#cv2.waitKey(0)\n",
    "#cv2.destroyAllWindows()"
   ]
  },
  {
   "cell_type": "code",
   "execution_count": 67,
   "metadata": {},
   "outputs": [
    {
     "data": {
      "image/png": "[encoded data removed]",
      "text/plain": [
       "<Figure size 432x288 with 1 Axes>"
      ]
     },
     "metadata": {
      "needs_background": "light"
     },
     "output_type": "display_data"
    }
   ],
   "source": [
    "# Question 13\n",
    "\n",
    "img = np.zeros((40,60,3), dtype=np.uint8)\n",
    "img[21:41, 0:31] =  [224, 33, 138]\n",
    "\n",
    "fig, ax = plt.subplots()\n",
    "ax.imshow(img)\n",
    "plt.show()"
   ]
  },
  {
   "cell_type": "code",
   "execution_count": 68,
   "metadata": {},
   "outputs": [],
   "source": [
    "# Question 14\n",
    "img = cv2.imread(r'tom_dark.jpg')\n",
    "#median = cv2.medianBlur(img, 5)\n",
    "\n",
    "value = 60\n",
    "hsv = cv2.cvtColor(img, cv2.COLOR_BGR2HSV)\n",
    "h, s, v = cv2.split(hsv)\n",
    "lim = 255 - value\n",
    "v[v > lim] = 255\n",
    "v[v <= lim] += value\n",
    "final_hsv = cv2.merge((h, s, v))\n",
    "img2 = cv2.cvtColor(final_hsv, cv2.COLOR_HSV2BGR)\n",
    "\n",
    "cv2.namedWindow('Image', cv2.WINDOW_AUTOSIZE)\n",
    "cv2.imshow('Image', img)\n",
    "cv2.waitKey(0)\n",
    "cv2.imshow('Image', img2)\n",
    "cv2.waitKey(0)\n",
    "cv2.destroyAllWindows()"
   ]
  }
 ],
 "metadata": {
  "interpreter": {
   "hash": "2ceb47945bdbc701a2928632c25e021447187f99c8f987324240afa9cbcd1329"
  },
  "kernelspec": {
   "display_name": "Python 3.9.6 64-bit",
   "name": "python3"
  },
  "language_info": {
   "codemirror_mode": {
    "name": "ipython",
    "version": 3
   },
   "file_extension": ".py",
   "mimetype": "text/x-python",
   "name": "python",
   "nbconvert_exporter": "python",
   "pygments_lexer": "ipython3",
   "version": "3.9.6"
  },
  "orig_nbformat": 4
 },
 "nbformat": 4,
 "nbformat_minor": 2
}
